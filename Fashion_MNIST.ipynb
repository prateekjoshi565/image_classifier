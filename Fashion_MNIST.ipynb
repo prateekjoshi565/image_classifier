{
 "cells": [
  {
   "cell_type": "code",
   "execution_count": 1,
   "metadata": {},
   "outputs": [
    {
     "name": "stderr",
     "output_type": "stream",
     "text": [
      "Using TensorFlow backend.\n"
     ]
    }
   ],
   "source": [
    "from keras.datasets import fashion_mnist\n",
    "(train_X,train_Y), (test_X,test_Y) = fashion_mnist.load_data()"
   ]
  },
  {
   "cell_type": "code",
   "execution_count": 2,
   "metadata": {},
   "outputs": [],
   "source": [
    "import numpy as np\n",
    "from keras.utils import to_categorical\n",
    "import matplotlib.pyplot as plt\n",
    "%matplotlib inline"
   ]
  },
  {
   "cell_type": "code",
   "execution_count": 3,
   "metadata": {},
   "outputs": [
    {
     "data": {
      "text/plain": [
       "((60000, 28, 28), (60000,))"
      ]
     },
     "execution_count": 3,
     "metadata": {},
     "output_type": "execute_result"
    }
   ],
   "source": [
    "train_X.shape, train_Y.shape "
   ]
  },
  {
   "cell_type": "code",
   "execution_count": 4,
   "metadata": {},
   "outputs": [
    {
     "data": {
      "text/plain": [
       "((10000, 28, 28), (10000,))"
      ]
     },
     "execution_count": 4,
     "metadata": {},
     "output_type": "execute_result"
    }
   ],
   "source": [
    "test_X.shape, test_Y.shape"
   ]
  },
  {
   "cell_type": "code",
   "execution_count": 5,
   "metadata": {},
   "outputs": [
    {
     "data": {
      "text/plain": [
       "(array([0, 1, 2, 3, 4, 5, 6, 7, 8, 9], dtype=uint8),\n",
       " array([6000, 6000, 6000, 6000, 6000, 6000, 6000, 6000, 6000, 6000]))"
      ]
     },
     "execution_count": 5,
     "metadata": {},
     "output_type": "execute_result"
    }
   ],
   "source": [
    "np.unique(train_Y, return_counts=True)"
   ]
  },
  {
   "cell_type": "code",
   "execution_count": 6,
   "metadata": {},
   "outputs": [
    {
     "data": {
      "text/plain": [
       "<matplotlib.text.Text at 0x7fe9320fb4e0>"
      ]
     },
     "execution_count": 6,
     "metadata": {},
     "output_type": "execute_result"
    },
    {
     "data": {
      "image/png": "[encoded data removed]",
      "text/plain": [
       "<matplotlib.figure.Figure at 0x7fe932196908>"
      ]
     },
     "metadata": {},
     "output_type": "display_data"
    }
   ],
   "source": [
    "plt.figure(figsize=[5,5])\n",
    "\n",
    "# Display the first image in training data\n",
    "plt.subplot(121)\n",
    "plt.imshow(train_X[0,:,:], cmap='gray')\n",
    "plt.title(\"Ground Truth : {}\".format(train_Y[0]))\n",
    "\n",
    "# Display the first image in testing data\n",
    "plt.subplot(122)\n",
    "plt.imshow(test_X[0,:,:], cmap='gray')\n",
    "plt.title(\"Ground Truth : {}\".format(test_Y[0]))"
   ]
  },
  {
   "cell_type": "code",
   "execution_count": 7,
   "metadata": {},
   "outputs": [],
   "source": [
    "train_X = train_X.reshape(-1, 28,28, 1)\n",
    "test_X = test_X.reshape(-1, 28,28, 1)"
   ]
  },
  {
   "cell_type": "code",
   "execution_count": 8,
   "metadata": {},
   "outputs": [],
   "source": [
    "train_X = train_X.astype('float32')\n",
    "test_X = test_X.astype('float32')\n",
    "\n",
    "# recaling pixel values in the range 0 to 1\n",
    "train_X = train_X / 255. \n",
    "test_X = test_X / 255."
   ]
  },
  {
   "cell_type": "code",
   "execution_count": 9,
   "metadata": {},
   "outputs": [
    {
     "name": "stdout",
     "output_type": "stream",
     "text": [
      "Original label: 9\n",
      "After conversion to one-hot: [ 0.  0.  0.  0.  0.  0.  0.  0.  0.  1.]\n"
     ]
    }
   ],
   "source": [
    "# Change the labels from categorical to one-hot encoding\n",
    "train_Y_one_hot = to_categorical(train_Y)\n",
    "test_Y_one_hot = to_categorical(test_Y)\n",
    "\n",
    "# Display the change for category label using one-hot encoding\n",
    "print('Original label:', train_Y[111])\n",
    "print('After conversion to one-hot:', train_Y_one_hot[111])"
   ]
  },
  {
   "cell_type": "code",
   "execution_count": 10,
   "metadata": {},
   "outputs": [],
   "source": [
    "from sklearn.model_selection import train_test_split\n",
    "train_X,valid_X,train_label,valid_label = train_test_split(train_X, train_Y_one_hot, test_size=0.2, random_state=29)"
   ]
  },
  {
   "cell_type": "code",
   "execution_count": 11,
   "metadata": {},
   "outputs": [],
   "source": [
    "import keras\n",
    "from keras.models import Sequential,Input,Model\n",
    "from keras.layers import Dense, Dropout, Flatten\n",
    "from keras.layers import Conv2D, MaxPooling2D\n",
    "from keras.layers.normalization import BatchNormalization\n",
    "from keras.layers.advanced_activations import LeakyReLU"
   ]
  },
  {
   "cell_type": "code",
   "execution_count": 16,
   "metadata": {},
   "outputs": [],
   "source": [
    "batch_size = 64\n",
    "epochs = 15\n",
    "num_classes = 10"
   ]
  },
  {
   "cell_type": "code",
   "execution_count": 14,
   "metadata": {},
   "outputs": [],
   "source": [
    "my_model = Sequential()\n",
    "my_model.add(Conv2D(32, kernel_size=(3, 3),activation='linear',input_shape=(28,28,1),padding='same'))\n",
    "my_model.add(LeakyReLU(alpha=0.3))\n",
    "my_model.add(MaxPooling2D((2, 2),padding='same'))\n",
    "my_model.add(Conv2D(64, (3, 3), activation='linear',padding='same'))\n",
    "my_model.add(LeakyReLU(alpha=0.3))\n",
    "my_model.add(MaxPooling2D(pool_size=(2, 2),padding='same'))\n",
    "my_model.add(Conv2D(128, (3, 3), activation='linear',padding='same'))\n",
    "my_model.add(LeakyReLU(alpha=0.3))                  \n",
    "my_model.add(MaxPooling2D(pool_size=(2, 2),padding='same'))\n",
    "my_model.add(Flatten())\n",
    "my_model.add(Dense(128, activation='linear'))\n",
    "my_model.add(LeakyReLU(alpha=0.3))                  \n",
    "my_model.add(Dense(num_classes, activation='softmax'))"
   ]
  },
  {
   "cell_type": "code",
   "execution_count": 17,
   "metadata": {},
   "outputs": [],
   "source": [
    "my_model.compile(loss=keras.losses.categorical_crossentropy, \n",
    "                 optimizer=keras.optimizers.Adam(), \n",
    "                 metrics=['accuracy'])"
   ]
  },
  {
   "cell_type": "markdown",
   "metadata": {},
   "source": [
    "### Training the Model"
   ]
  },
  {
   "cell_type": "code",
   "execution_count": 18,
   "metadata": {},
   "outputs": [
    {
     "name": "stdout",
     "output_type": "stream",
     "text": [
      "Train on 48000 samples, validate on 12000 samples\n",
      "Epoch 1/15\n",
      "48000/48000 [==============================] - 69s 1ms/step - loss: 0.4582 - acc: 0.8346 - val_loss: 0.3188 - val_acc: 0.8866\n",
      "Epoch 2/15\n",
      "48000/48000 [==============================] - 71s 1ms/step - loss: 0.2864 - acc: 0.8959 - val_loss: 0.2694 - val_acc: 0.9017\n",
      "Epoch 3/15\n",
      "48000/48000 [==============================] - 73s 2ms/step - loss: 0.2420 - acc: 0.9104 - val_loss: 0.2551 - val_acc: 0.9076\n",
      "Epoch 4/15\n",
      "48000/48000 [==============================] - 72s 1ms/step - loss: 0.2111 - acc: 0.9224 - val_loss: 0.2413 - val_acc: 0.9133\n",
      "Epoch 5/15\n",
      "48000/48000 [==============================] - 69s 1ms/step - loss: 0.1843 - acc: 0.9319 - val_loss: 0.2368 - val_acc: 0.9177\n",
      "Epoch 6/15\n",
      "48000/48000 [==============================] - 70s 1ms/step - loss: 0.1610 - acc: 0.9402 - val_loss: 0.2309 - val_acc: 0.9187\n",
      "Epoch 7/15\n",
      "48000/48000 [==============================] - 70s 1ms/step - loss: 0.1412 - acc: 0.9487 - val_loss: 0.2467 - val_acc: 0.9163\n",
      "Epoch 8/15\n",
      "48000/48000 [==============================] - 71s 1ms/step - loss: 0.1230 - acc: 0.9544 - val_loss: 0.2517 - val_acc: 0.9219\n",
      "Epoch 9/15\n",
      "48000/48000 [==============================] - 73s 2ms/step - loss: 0.1058 - acc: 0.9611 - val_loss: 0.2627 - val_acc: 0.9197\n",
      "Epoch 10/15\n",
      "48000/48000 [==============================] - 72s 2ms/step - loss: 0.0903 - acc: 0.9670 - val_loss: 0.2692 - val_acc: 0.9203\n",
      "Epoch 11/15\n",
      "48000/48000 [==============================] - 73s 2ms/step - loss: 0.0777 - acc: 0.9716 - val_loss: 0.3084 - val_acc: 0.9157\n",
      "Epoch 12/15\n",
      "48000/48000 [==============================] - 74s 2ms/step - loss: 0.0691 - acc: 0.9742 - val_loss: 0.3508 - val_acc: 0.9099\n",
      "Epoch 13/15\n",
      "48000/48000 [==============================] - 75s 2ms/step - loss: 0.0601 - acc: 0.9781 - val_loss: 0.3278 - val_acc: 0.9230\n",
      "Epoch 14/15\n",
      "48000/48000 [==============================] - 74s 2ms/step - loss: 0.0505 - acc: 0.9811 - val_loss: 0.3909 - val_acc: 0.9117\n",
      "Epoch 15/15\n",
      "48000/48000 [==============================] - 73s 2ms/step - loss: 0.0503 - acc: 0.9816 - val_loss: 0.3886 - val_acc: 0.9163\n"
     ]
    }
   ],
   "source": [
    "my_model_train = my_model.fit(train_X, train_label, batch_size=batch_size, epochs=epochs, verbose=1, validation_data=(valid_X, valid_label))"
   ]
  },
  {
   "cell_type": "markdown",
   "metadata": {},
   "source": [
    "### Model Evaluation on the Test Set"
   ]
  },
  {
   "cell_type": "code",
   "execution_count": 19,
   "metadata": {},
   "outputs": [
    {
     "name": "stdout",
     "output_type": "stream",
     "text": [
      "10000/10000 [==============================] - 5s 508us/step\n"
     ]
    }
   ],
   "source": [
    "test_eval = my_model.evaluate(test_X, test_Y_one_hot, verbose=1)"
   ]
  },
  {
   "cell_type": "code",
   "execution_count": 21,
   "metadata": {},
   "outputs": [
    {
     "name": "stdout",
     "output_type": "stream",
     "text": [
      "Test Dataset Loss:  0.415009062642\n",
      "Test Dataset Accuracy:  0.9126\n"
     ]
    }
   ],
   "source": [
    "print('Test Dataset Loss: ', test_eval[0])\n",
    "print('Test Dataset Accuracy: ', test_eval[1])"
   ]
  },
  {
   "cell_type": "code",
   "execution_count": 22,
   "metadata": {},
   "outputs": [],
   "source": [
    "predicted_classes = my_model.predict(test_X)"
   ]
  },
  {
   "cell_type": "code",
   "execution_count": 29,
   "metadata": {},
   "outputs": [],
   "source": [
    "predicted_label = np.argmax(np.round(predicted_classes), axis=1)"
   ]
  },
  {
   "cell_type": "code",
   "execution_count": 31,
   "metadata": {},
   "outputs": [],
   "source": [
    "correct = np.where(predicted_label == test_Y)[0]\n",
    "incorrect = np.where(predicted_label != test_Y)[0]"
   ]
  },
  {
   "cell_type": "code",
   "execution_count": 36,
   "metadata": {},
   "outputs": [
    {
     "name": "stdout",
     "output_type": "stream",
     "text": [
      "9122 items classified correctly\n",
      "878 items misclassified\n"
     ]
    }
   ],
   "source": [
    "print(str(len(correct)) + \" items classified correctly\")\n",
    "print(str(len(incorrect)) + \" items misclassified\")"
   ]
  }
 ],
 "metadata": {
  "kernelspec": {
   "display_name": "Python 3",
   "language": "python",
   "name": "python3"
  },
  "language_info": {
   "codemirror_mode": {
    "name": "ipython",
    "version": 3
   },
   "file_extension": ".py",
   "mimetype": "text/x-python",
   "name": "python",
   "nbconvert_exporter": "python",
   "pygments_lexer": "ipython3",
   "version": "3.6.2"
  }
 },
 "nbformat": 4,
 "nbformat_minor": 2
}
